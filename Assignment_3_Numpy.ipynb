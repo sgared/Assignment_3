{
 "cells": [
  {
   "cell_type": "markdown",
   "metadata": {},
   "source": [
    "The purpose of this assignment is to start performing numeric data analysis using Python and the NumPy module, using real world data.\n",
    "\n",
    "Skills:\n",
    "In order to complete this assignment you will need to:\n",
    "\n",
    "Import and manipulate the data into a workable form\n",
    "Utilize Numpy functionalities to answer analytical questions\n",
    "Practice python fundamentals and best practices\n",
    "Knowledge:\n",
    "This assignment will help you gain the following:\n",
    "\n",
    "Load data into Numpy ndarrays\n",
    "Perform data manipulation using ndarrays"
   ]
  },
  {
   "cell_type": "markdown",
   "metadata": {},
   "source": [
    "Instructions:"
   ]
  },
  {
   "cell_type": "code",
   "execution_count": 81,
   "metadata": {},
   "outputs": [
    {
     "data": {
      "text/plain": [
       "' 1. Data collection and analysis have revolutionized modern sports, especially basketball. Analysts, teams, coaches, and players all participate with the hope that the insights it provides will give them a competitive edge. Common analyses include player performance analysis, opponent scouting, game strategy optimization, injury prevention, fan engagement, and player recruitment. Use the data provided, a subset of the data contained in a Kaggle RepositoryLinks to an external site., to answer the following questions.'"
      ]
     },
     "execution_count": 81,
     "metadata": {},
     "output_type": "execute_result"
    }
   ],
   "source": [
    "\"\"\" 1. Data collection and analysis have revolutionized modern sports, especially basketball. Analysts, teams, coaches, and players all participate with the hope that the insights it provides will give them a competitive edge. Common analyses include player performance analysis, opponent scouting, game strategy optimization, injury prevention, fan engagement, and player recruitment. Use the data provided, a subset of the data contained in a Kaggle RepositoryLinks to an external site., to answer the following questions.\"\"\""
   ]
  },
  {
   "cell_type": "code",
   "execution_count": 82,
   "metadata": {},
   "outputs": [],
   "source": [
    "import numpy as np"
   ]
  },
  {
   "cell_type": "code",
   "execution_count": 83,
   "metadata": {},
   "outputs": [
    {
     "name": "stderr",
     "output_type": "stream",
     "text": [
      "C:\\Users\\yemer\\AppData\\Local\\Temp\\ipykernel_26004\\3673016692.py:25: RuntimeWarning: invalid value encountered in divide\n",
      "  fgm_percentage = np.where(fga_column > 0, (fgm_column / fga_column) * 100, 0)\n",
      "C:\\Users\\yemer\\AppData\\Local\\Temp\\ipykernel_26004\\3673016692.py:26: RuntimeWarning: invalid value encountered in divide\n",
      "  tpm_percentage = np.where(tpa_column > 0, (tpm_column / tpa_column) * 100, 0)\n",
      "C:\\Users\\yemer\\AppData\\Local\\Temp\\ipykernel_26004\\3673016692.py:27: RuntimeWarning: invalid value encountered in divide\n",
      "  ftm_percentage = np.where(fta_column > 0, (ftm_column / fta_column) * 100, 0)\n",
      "C:\\Users\\yemer\\AppData\\Local\\Temp\\ipykernel_26004\\3673016692.py:37: RuntimeWarning: invalid value encountered in divide\n",
      "  overall_shootting_percentage = np.where((fga_column+tpa_column+fta_column) > 0, ((fgm_column+tpm_column+ftm_column) / (fga_column+tpa_column+fta_column)) * 100, 0)\n"
     ]
    }
   ],
   "source": [
    "# Load the files\n",
    "Player_stats = np.loadtxt(\"NBA_Player_Stats.tsv\", delimiter='\\t', dtype=str, skiprows=1)\n",
    "player_col_names = np.loadtxt(\"NBA_Column_Names.txt\", delimiter=\"\\t\", dtype=str)\n",
    "\n",
    "# Identify the indices of the relevant columns\n",
    "fgm_index = np.where(player_col_names == 'Field Goals Made')[0][0]\n",
    "fga_index = np.where(player_col_names == 'Field Goals Attempted')[0][0]\n",
    "tpm_index = np.where(player_col_names == 'Three Pointers Made')[0][0]\n",
    "tpa_index = np.where(player_col_names == 'Three Pointers Attempted')[0][0]\n",
    "ftm_index = np.where(player_col_names==\"Free Throws Made\")[0][0]\n",
    "fta_index = np.where(player_col_names ==\"Free Throws Attempted\")[0][0]\n",
    "\n",
    "#Extract the relevant columns and convert them to numeric\n",
    "fgm_column = Player_stats[:, fgm_index].astype(float)\n",
    "tpm_column = Player_stats[:, tpm_index].astype(float)\n",
    "fga_column = Player_stats[:, fga_index].astype(float)\n",
    "tpa_column = Player_stats[:, tpa_index].astype(float)\n",
    "ftm_column = Player_stats[:, ftm_index].astype(float)\n",
    "fta_column = Player_stats[:, fta_index].astype(float)\n",
    "\n",
    "#Calculate shooting percentages\n",
    "# Avoid division by zero by using np.where to handle cases where attempts are zero\n",
    "fgm_percentage = np.where(fga_column > 0, (fgm_column / fga_column) * 100, 0)\n",
    "tpm_percentage = np.where(tpa_column > 0, (tpm_column / tpa_column) * 100, 0)\n",
    "ftm_percentage = np.where(fta_column > 0, (ftm_column / fta_column) * 100, 0)\n",
    "# Optional: Combine results into a single array for easier access\n",
    "shooting_percentages = np.column_stack((fgm_percentage, tpm_percentage, ftm_percentage))\n",
    "\n",
    "# Average the point for each player by the minutes played\n",
    "min_index = np.where(player_col_names ==\"Minutes Played\")[0][0]\n",
    "min_column = Player_stats[:,min_index].astype(float)\n",
    "min_score_average = np.where(min_column > 0, (fgm_column + tpm_column + ftm_column) / min_column, 0)\n",
    "\n",
    "#overall shooting percentage \n",
    "overall_shootting_percentage = np.where((fga_column+tpa_column+fta_column) > 0, ((fgm_column+tpm_column+ftm_column) / (fga_column+tpa_column+fta_column)) * 100, 0)\n",
    "\n",
    "#average number of blocks per game\n",
    "blk_index = np.where(player_col_names == \"Blocks\")[0][0]\n",
    "blk_column = Player_stats[:,blk_index].astype(float)\n",
    "blk_average = np.where(min_column > 0 , blk_column / min_column, 0)\n",
    "# average number of steals per game\n",
    "stl_index = np.where(player_col_names == \"Steals\")[0][0]\n",
    "stl_column = Player_stats[:,stl_index].astype(float)\n",
    "stl_average = np.where(min_column > 0 , stl_column / min_column, 0)\n",
    "\n",
    "#print(\"Field Goal Percentage:\", fgm_percentage)\n",
    "#print(\"Three Point Percentage:\", tpm_percentage)\n",
    "#print(\"Combined Shooting Percentages:\\n\", shooting_percentages)\n"
   ]
  },
  {
   "cell_type": "code",
   "execution_count": 84,
   "metadata": {},
   "outputs": [
    {
     "name": "stdout",
     "output_type": "stream",
     "text": [
      "Field Goal Percentage: [57.41741742 46.46226415 50.94850949 ... 43.04635762 52.11267606\n",
      " 29.06976744]\n",
      "Three Point Percentage: [ 0.         40.25423729 25.         ... 23.72881356 42.85714286\n",
      " 25.        ]\n",
      "Free Throw Percentage: [52.42718447 79.12885662 79.70230041 ... 63.63636364 66.66666667\n",
      " 65.51724138]\n",
      "Combined Shooting Percentages:\n",
      " [[57.41741742  0.         52.42718447]\n",
      " [46.46226415 40.25423729 79.12885662]\n",
      " [50.94850949 25.         79.70230041]\n",
      " ...\n",
      " [43.04635762 23.72881356 63.63636364]\n",
      " [52.11267606 42.85714286 66.66666667]\n",
      " [29.06976744 25.         65.51724138]]\n"
     ]
    }
   ],
   "source": [
    "#A. Determine the field goal accuracy, three point accuracy, and free throw accuracy for each player in each season.\n",
    "#field goal accuracy \n",
    "print(\"Field Goal Percentage:\", fgm_percentage)\n",
    "print(\"Three Point Percentage:\", tpm_percentage)\n",
    "print(\"Free Throw Percentage:\",ftm_percentage)\n",
    "print(\"Combined Shooting Percentages:\\n\", shooting_percentages)"
   ]
  },
  {
   "cell_type": "code",
   "execution_count": 85,
   "metadata": {},
   "outputs": [
    {
     "name": "stdout",
     "output_type": "stream",
     "text": [
      "Average Points Scored per Minute: [0.4388239  0.42194498 0.45571768 ... 0.18689956 0.24953445 0.13943699]\n"
     ]
    }
   ],
   "source": [
    "#B. Determine the averrage points scored per minute for each player in each season.\n",
    "print(\"Average Points Scored per Minute:\", min_score_average)"
   ]
  },
  {
   "cell_type": "code",
   "execution_count": 86,
   "metadata": {},
   "outputs": [
    {
     "name": "stdout",
     "output_type": "stream",
     "text": [
      "Overall Shooting Percentage: [55.74297189 53.12122433 60.41385515 ... 42.12598425 53.17460317\n",
      " 35.09933775]\n"
     ]
    }
   ],
   "source": [
    "#C. Determine the overall shooting accuracy of each player in each season.\n",
    "print(\"Overall Shooting Percentage:\", overall_shootting_percentage)"
   ]
  },
  {
   "cell_type": "code",
   "execution_count": 87,
   "metadata": {},
   "outputs": [
    {
     "name": "stdout",
     "output_type": "stream",
     "text": [
      "Average Blocks per Game: [0.07556118 0.02943058 0.0240923  ... 0.02445415 0.04469274 0.02104709]\n",
      "Average Steals per Game: [0.0113816  0.03518874 0.02680692 ... 0.02270742 0.04096834 0.04735596]\n"
     ]
    }
   ],
   "source": [
    "#D. Determine the average number of blocks per game and the average number of steals per game for each player in each season.\n",
    "print(\"Average Blocks per Game:\",blk_average)\n",
    "print(\"Average Steals per Game:\",stl_average)"
   ]
  },
  {
   "cell_type": "code",
   "execution_count": 88,
   "metadata": {},
   "outputs": [
    {
     "data": {
      "text/plain": [
       "'2. Create a list of the top 100 players and corresponding season for each of your calculated metrics: field goal accuracy, three point accuracy, free throw accuracy, average points scored per game, overall shooting accuracy, average blocks per game, and average steals per game. '"
      ]
     },
     "execution_count": 88,
     "metadata": {},
     "output_type": "execute_result"
    }
   ],
   "source": [
    "\"\"\"2. Create a list of the top 100 players and corresponding season for each of your calculated metrics: field goal accuracy, three point accuracy, free throw accuracy, average points scored per game, overall shooting accuracy, average blocks per game, and average steals per game. \"\"\""
   ]
  },
  {
   "cell_type": "code",
   "execution_count": 89,
   "metadata": {},
   "outputs": [
    {
     "name": "stdout",
     "output_type": "stream",
     "text": [
      "Top 100 Players Metrics:\n",
      " [[4535 4634 4567 4086 1164 2568 4377]\n",
      " [4552 1806 1870 4378 4581 1373 2398]\n",
      " [4371 2970   74 3520 4371 3379 4606]\n",
      " [3589  494 3040 4381 4535 2011 3270]\n",
      " [3186  562 2087 3808 2373 4297 1034]\n",
      " [3390 2801 2286 3522 3223  922 4629]\n",
      " [4297  767 1896 3324 4628  763 3167]\n",
      " [4437 2042 1075 4382 2539  341 2046]\n",
      " [2411 3502 2532 4383 4572 1544 3021]\n",
      " [4581  397 1125 3521 4634  567 2720]\n",
      " [4628  104 4446 1219 4437 2674 1636]\n",
      " [2539 3941 1671 3835 4217  996 1845]\n",
      " [3007 1432  232 4384 4297 3286 2952]\n",
      " [4568 1436  984 2906 1625 2801 3079]\n",
      " [4134 1860 4164 4097 2814 1403 2824]\n",
      " [4634 1404 2507 4379 3084 1830 1576]\n",
      " [3223 2110  807 4391 3573  193 3423]\n",
      " [4572 2657 4565 3120 4568   11 2466]\n",
      " [3573 2849 3008 4092 4134  586 2646]\n",
      " [3793 2623 1815 4093 4325  699 3820]\n",
      " [3070  865  506  590 3268 2810  648]\n",
      " [3984  171 1247 3323 4532 1744 1961]\n",
      " [2373  643 2009 3118 2314  125   29]\n",
      " [3868  500 1070 3529 1979 2008 2579]\n",
      " [3706 2639 3835 4415 4266  581  736]\n",
      " [3726 1831 1038 2051 1431  730  691]\n",
      " [2010 2017 1819 3325 2045 4622 2247]\n",
      " [4479 4552 4380 1421 2010 4434 2414]\n",
      " [4151 4434 3901 4450 3939 1196 3316]\n",
      " [3896 3633  596 4087 3984 1522 4577]\n",
      " [4324 4160   26 3333 4151 2740 4493]\n",
      " [3084 1533 3860 4114 1860 1122 1175]\n",
      " [2798 4170 1532 2267 2588 1418 4045]\n",
      " [3627  172 1793 4109 3876  538 2297]\n",
      " [1802  144 1666 3525 1899  376   34]\n",
      " [3796  178 1771 3531 3762  523  765]\n",
      " [4074 1003 2300 2684 3070 4168 4229]\n",
      " [3268  339 4093 1221 4337 1195 4036]\n",
      " [4217  136 3812 1839 3706 4059  591]\n",
      " [4605  621  857 2052 4479 4074 1216]\n",
      " [2814 4582 4403 3812 3793 4080  286]\n",
      " [4582 3602  603 3527 2014 1831 3837]\n",
      " [3921  376 1260 4387 4434 4338  402]\n",
      " [3594 1619 1738 3815 4582 2757 2115]\n",
      " [2600 1418 2550  207 3182 3726 2903]\n",
      " [3862  646 2054 4119 4552   78  165]\n",
      " [4548  750 1043 3549 3290 4471  957]\n",
      " [3502  568 3119 4100 2439  328 3710]\n",
      " [4067  487 1481 2680 2839 2360 2724]\n",
      " [1729  555 2003 1840 3979 2049 3694]\n",
      " [1566  572 2090 3526 1526 4189 3346]\n",
      " [4291  361 1872 1423 1858 2718 3324]\n",
      " [2014  352 1869 4380 1027 2362 2521]\n",
      " [4607 2027 4090 3523  510 1157 4338]\n",
      " [4189 1218 2310 3831 3381 3240 3119]\n",
      " [1538 1858 3532 4113 2114  458 1411]\n",
      " [1698 2045   34 4090 1708  929 2981]\n",
      " [2963 2136 2381 3809 1800  267 3636]\n",
      " [2217 2710 2530 2909 4059 2540 1263]\n",
      " [3762 1588  435 4435 4069  926  273]\n",
      " [3939 1443 2074  208 3921  804 4302]\n",
      " [4434  901 1367 3544 2057 3719  550]\n",
      " [4059 2618 3522 1622 4067 2232  944]\n",
      " [2863 2303 2838 4091 3868 4535 3797]\n",
      " [3392 1083 2842 3827 4046  733 3578]\n",
      " [4337 2226  237 1004 2083  269 3983]\n",
      " [2588 3984  619 2683 2768  985 1705]\n",
      " [4503 3763 1699 2261 4160 4350 4307]\n",
      " [3679 1819  186 1623 1566 1186 2928]\n",
      " [4575 4646 3884 1451 1729  969 4187]\n",
      " [4368 1330 1665 4088 2232 1200 2855]\n",
      " [4303 3194 3324 1426 2865 4582 1941]\n",
      " [4218  139 3486 2259 1714  255 3120]\n",
      " [4325 1773 1669 1848   78 1810 1465]\n",
      " [1783 1174 2146 3119 3000 2254 2380]\n",
      " [4128  968 2876 1220 3896  181 3804]\n",
      " [2314 1031 4406 2056 2217 2949  666]\n",
      " [4585   74 2829 1625 3796 1853  166]\n",
      " [ 339 2225 1662 4392 2649 3793 1156]\n",
      " [1196 3381 2586 2053 1006 3125 3735]\n",
      " [3449 3357 2304 2454 2385 1302  874]\n",
      " [2070 3751 3536 1841 3379 4191 3666]\n",
      " [4532 4161 2680 1222 2086 4607 3113]\n",
      " [3474 2436 3038 3327 4281 4581 4640]\n",
      " [3111 3008 3833 4094 2863  906 3616]\n",
      " [1875 2604 3660 2912  730 2070  618]\n",
      " [1526  480 2843  589 1802 3111 4087]\n",
      " [4266 1662 3371 2264 1747  740 1629]\n",
      " [1812  506 4130 2456 4049  847  208]\n",
      " [4049 3914 1506 4095 4128 1147 1818]\n",
      " [3379  522 1425 3331 4324  657   93]\n",
      " [2245  204 3850 2981 4223 2633 4616]\n",
      " [3240 4001 3629 1224 3995 2637 2009]\n",
      " [2900 4068 4204  402 4189 1661 2424]\n",
      " [1899  281 1441 1226 4393 1035 1205]\n",
      " [2045 4366 3924 3816 4503 1596 3009]\n",
      " [1443 3131 3001 1013 3602 3502 3328]\n",
      " [ 164 2780 4404 4389 1783 4654  451]\n",
      " [2159 4544 1228 2681 2552  305 2582]\n",
      " [3243 3062 3570 1656 3627 1470 3479]]\n"
     ]
    }
   ],
   "source": [
    "\n",
    "# Get indices that would sort the array\n",
    "# Indices that would sort the values\n",
    "sorted_indices_field_goal_percentage = np.argsort(fgm_percentage)[::-1]\n",
    "sorted_indices_three_point_percentage = np.argsort(tpm_percentage)[::-1]\n",
    "sorted_indices_free_throw_percentage = np.argsort(ftm_percentage)[::-1]\n",
    "sorted_indices_average_points_scored = np.argsort(min_score_average)[::-1]\n",
    "sorted_indices_overall_shooting_percentage = np.argsort(overall_shootting_percentage)[::-1]\n",
    "sorted_indices_average_blocks = np.argsort(blk_average)[::-1]\n",
    "sorted_indices_average_steals = np.argsort(stl_average)[::-1]\n",
    "\n",
    "\n",
    "# Get the top 100 indices for each metric\n",
    "top_100_fgp_indices = sorted_indices_field_goal_percentage[:100]  # Field Goal Percentage\n",
    "top_100_tpp_indices = sorted_indices_three_point_percentage[:100]  # Three Point Percentage\n",
    "top_100_ftp_indices = sorted_indices_free_throw_percentage[:100]  # Free Throw Percentage\n",
    "top_100_ppg_indices = sorted_indices_average_points_scored[:100]  # Average Points Scored\n",
    "top_100_osp_indices = sorted_indices_overall_shooting_percentage[:100]  # Overall Shooting Percentage\n",
    "top_100_bpg_indices = sorted_indices_average_blocks[:100]  # Average Blocks\n",
    "top_100_spg_indices = sorted_indices_average_steals[:100]  # Average Steals\n",
    "\n",
    "\n",
    "# Step 3: Combine all top 100 arrays into a structured array (7 columns)\n",
    "# Combine all top 100 arrays into a structured array (7 columns)\n",
    "top_hundred_players = np.column_stack((\n",
    "    top_100_fgp_indices,  # Field Goal Percentage\n",
    "    top_100_tpp_indices,  # Three Point Percentage\n",
    "    top_100_ftp_indices,  # Free Throw Percentage\n",
    "    top_100_ppg_indices,  # Average Points Scored\n",
    "    top_100_osp_indices,  # Overall Shooting Percentage\n",
    "    top_100_bpg_indices,  # Average Blocks\n",
    "    top_100_spg_indices   # Average Steals\n",
    "))\n",
    "\n",
    "# Print the final structured array for the top 100 players\n",
    "print(\"Top 100 Players Metrics:\\n\", top_hundred_players)\n",
    "\n",
    "                                      \n",
    "                                      "
   ]
  }
 ],
 "metadata": {
  "kernelspec": {
   "display_name": "py_env",
   "language": "python",
   "name": "python3"
  },
  "language_info": {
   "codemirror_mode": {
    "name": "ipython",
    "version": 3
   },
   "file_extension": ".py",
   "mimetype": "text/x-python",
   "name": "python",
   "nbconvert_exporter": "python",
   "pygments_lexer": "ipython3",
   "version": "3.12.5"
  }
 },
 "nbformat": 4,
 "nbformat_minor": 2
}
